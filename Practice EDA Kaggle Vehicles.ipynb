{
 "cells": [
  {
   "cell_type": "markdown",
   "metadata": {},
   "source": [
    "# Practice case using Cars Dataset"
   ]
  },
  {
   "cell_type": "markdown",
   "metadata": {},
   "source": [
    "## 1. Import libraries"
   ]
  },
  {
   "cell_type": "code",
   "execution_count": 1,
   "metadata": {},
   "outputs": [],
   "source": [
    "#Import Libraries\n",
    "import pandas as pd\n",
    "import numpy as np\n",
    "import seaborn as sns\n",
    "import matplotlib.pyplot as plt"
   ]
  },
  {
   "cell_type": "markdown",
   "metadata": {},
   "source": [
    "## 2. Import Data"
   ]
  },
  {
   "cell_type": "code",
   "execution_count": 2,
   "metadata": {
    "scrolled": true
   },
   "outputs": [
    {
     "data": {
      "text/html": [
       "<div>\n",
       "<style scoped>\n",
       "    .dataframe tbody tr th:only-of-type {\n",
       "        vertical-align: middle;\n",
       "    }\n",
       "\n",
       "    .dataframe tbody tr th {\n",
       "        vertical-align: top;\n",
       "    }\n",
       "\n",
       "    .dataframe thead th {\n",
       "        text-align: right;\n",
       "    }\n",
       "</style>\n",
       "<table border=\"1\" class=\"dataframe\">\n",
       "  <thead>\n",
       "    <tr style=\"text-align: right;\">\n",
       "      <th></th>\n",
       "      <th>url</th>\n",
       "      <th>city</th>\n",
       "      <th>price</th>\n",
       "      <th>year</th>\n",
       "      <th>manufacturer</th>\n",
       "      <th>make</th>\n",
       "      <th>condition</th>\n",
       "      <th>cylinders</th>\n",
       "      <th>fuel</th>\n",
       "      <th>odometer</th>\n",
       "      <th>...</th>\n",
       "      <th>paint_color</th>\n",
       "      <th>image_url</th>\n",
       "      <th>lat</th>\n",
       "      <th>long</th>\n",
       "      <th>county_fips</th>\n",
       "      <th>county_name</th>\n",
       "      <th>state_fips</th>\n",
       "      <th>state_code</th>\n",
       "      <th>state_name</th>\n",
       "      <th>weather</th>\n",
       "    </tr>\n",
       "  </thead>\n",
       "  <tbody>\n",
       "    <tr>\n",
       "      <th>0</th>\n",
       "      <td>https://marshall.craigslist.org/cto/d/2010-dod...</td>\n",
       "      <td>marshall</td>\n",
       "      <td>11900</td>\n",
       "      <td>2010.0</td>\n",
       "      <td>dodge</td>\n",
       "      <td>challenger se</td>\n",
       "      <td>good</td>\n",
       "      <td>6 cylinders</td>\n",
       "      <td>gas</td>\n",
       "      <td>43600.0</td>\n",
       "      <td>...</td>\n",
       "      <td>red</td>\n",
       "      <td>https://images.craigslist.org/00i0i_2ggH1eKDNK...</td>\n",
       "      <td>43.4775</td>\n",
       "      <td>-96.7041</td>\n",
       "      <td>46083.0</td>\n",
       "      <td>Lincoln</td>\n",
       "      <td>46.0</td>\n",
       "      <td>SD</td>\n",
       "      <td>South Dakota</td>\n",
       "      <td>38.0</td>\n",
       "    </tr>\n",
       "    <tr>\n",
       "      <th>1</th>\n",
       "      <td>https://marshall.craigslist.org/cto/d/fleetwoo...</td>\n",
       "      <td>marshall</td>\n",
       "      <td>1515</td>\n",
       "      <td>1999.0</td>\n",
       "      <td>NaN</td>\n",
       "      <td>fleetwood</td>\n",
       "      <td>NaN</td>\n",
       "      <td>NaN</td>\n",
       "      <td>gas</td>\n",
       "      <td>NaN</td>\n",
       "      <td>...</td>\n",
       "      <td>NaN</td>\n",
       "      <td>https://images.craigslist.org/00M0M_irjh7SjEcU...</td>\n",
       "      <td>44.7612</td>\n",
       "      <td>-96.6907</td>\n",
       "      <td>46039.0</td>\n",
       "      <td>Deuel</td>\n",
       "      <td>46.0</td>\n",
       "      <td>SD</td>\n",
       "      <td>South Dakota</td>\n",
       "      <td>38.0</td>\n",
       "    </tr>\n",
       "    <tr>\n",
       "      <th>2</th>\n",
       "      <td>https://marshall.craigslist.org/cto/d/2008-for...</td>\n",
       "      <td>marshall</td>\n",
       "      <td>17550</td>\n",
       "      <td>2008.0</td>\n",
       "      <td>ford</td>\n",
       "      <td>f-150</td>\n",
       "      <td>NaN</td>\n",
       "      <td>NaN</td>\n",
       "      <td>gas</td>\n",
       "      <td>NaN</td>\n",
       "      <td>...</td>\n",
       "      <td>NaN</td>\n",
       "      <td>https://images.craigslist.org/00s0s_eL2XFhEUcx...</td>\n",
       "      <td>44.1415</td>\n",
       "      <td>-103.2052</td>\n",
       "      <td>46093.0</td>\n",
       "      <td>Meade</td>\n",
       "      <td>46.0</td>\n",
       "      <td>SD</td>\n",
       "      <td>South Dakota</td>\n",
       "      <td>38.0</td>\n",
       "    </tr>\n",
       "    <tr>\n",
       "      <th>3</th>\n",
       "      <td>https://marshall.craigslist.org/cto/d/ford-tau...</td>\n",
       "      <td>marshall</td>\n",
       "      <td>2800</td>\n",
       "      <td>2004.0</td>\n",
       "      <td>ford</td>\n",
       "      <td>taurus</td>\n",
       "      <td>good</td>\n",
       "      <td>6 cylinders</td>\n",
       "      <td>gas</td>\n",
       "      <td>168591.0</td>\n",
       "      <td>...</td>\n",
       "      <td>grey</td>\n",
       "      <td>https://images.craigslist.org/00L0L_5HUR1nQjt8...</td>\n",
       "      <td>43.2845</td>\n",
       "      <td>-95.5930</td>\n",
       "      <td>19143.0</td>\n",
       "      <td>Osceola</td>\n",
       "      <td>19.0</td>\n",
       "      <td>IA</td>\n",
       "      <td>Iowa</td>\n",
       "      <td>47.0</td>\n",
       "    </tr>\n",
       "    <tr>\n",
       "      <th>4</th>\n",
       "      <td>https://marshall.craigslist.org/cto/d/2001-gra...</td>\n",
       "      <td>marshall</td>\n",
       "      <td>400</td>\n",
       "      <td>2001.0</td>\n",
       "      <td>NaN</td>\n",
       "      <td>2001 Grand Prix</td>\n",
       "      <td>NaN</td>\n",
       "      <td>NaN</td>\n",
       "      <td>gas</td>\n",
       "      <td>217000.0</td>\n",
       "      <td>...</td>\n",
       "      <td>NaN</td>\n",
       "      <td>https://images.craigslist.org/00n0n_bJJ1XnonSG...</td>\n",
       "      <td>43.0261</td>\n",
       "      <td>-94.4064</td>\n",
       "      <td>19109.0</td>\n",
       "      <td>Kossuth</td>\n",
       "      <td>19.0</td>\n",
       "      <td>IA</td>\n",
       "      <td>Iowa</td>\n",
       "      <td>47.0</td>\n",
       "    </tr>\n",
       "  </tbody>\n",
       "</table>\n",
       "<p>5 rows × 26 columns</p>\n",
       "</div>"
      ],
      "text/plain": [
       "                                                 url      city  price    year  \\\n",
       "0  https://marshall.craigslist.org/cto/d/2010-dod...  marshall  11900  2010.0   \n",
       "1  https://marshall.craigslist.org/cto/d/fleetwoo...  marshall   1515  1999.0   \n",
       "2  https://marshall.craigslist.org/cto/d/2008-for...  marshall  17550  2008.0   \n",
       "3  https://marshall.craigslist.org/cto/d/ford-tau...  marshall   2800  2004.0   \n",
       "4  https://marshall.craigslist.org/cto/d/2001-gra...  marshall    400  2001.0   \n",
       "\n",
       "  manufacturer             make condition    cylinders fuel  odometer  \\\n",
       "0        dodge    challenger se      good  6 cylinders  gas   43600.0   \n",
       "1          NaN        fleetwood       NaN          NaN  gas       NaN   \n",
       "2         ford            f-150       NaN          NaN  gas       NaN   \n",
       "3         ford           taurus      good  6 cylinders  gas  168591.0   \n",
       "4          NaN  2001 Grand Prix       NaN          NaN  gas  217000.0   \n",
       "\n",
       "    ...    paint_color                                          image_url  \\\n",
       "0   ...            red  https://images.craigslist.org/00i0i_2ggH1eKDNK...   \n",
       "1   ...            NaN  https://images.craigslist.org/00M0M_irjh7SjEcU...   \n",
       "2   ...            NaN  https://images.craigslist.org/00s0s_eL2XFhEUcx...   \n",
       "3   ...           grey  https://images.craigslist.org/00L0L_5HUR1nQjt8...   \n",
       "4   ...            NaN  https://images.craigslist.org/00n0n_bJJ1XnonSG...   \n",
       "\n",
       "       lat      long county_fips county_name state_fips state_code  \\\n",
       "0  43.4775  -96.7041     46083.0     Lincoln       46.0         SD   \n",
       "1  44.7612  -96.6907     46039.0       Deuel       46.0         SD   \n",
       "2  44.1415 -103.2052     46093.0       Meade       46.0         SD   \n",
       "3  43.2845  -95.5930     19143.0     Osceola       19.0         IA   \n",
       "4  43.0261  -94.4064     19109.0     Kossuth       19.0         IA   \n",
       "\n",
       "     state_name  weather  \n",
       "0  South Dakota     38.0  \n",
       "1  South Dakota     38.0  \n",
       "2  South Dakota     38.0  \n",
       "3          Iowa     47.0  \n",
       "4          Iowa     47.0  \n",
       "\n",
       "[5 rows x 26 columns]"
      ]
     },
     "execution_count": 2,
     "metadata": {},
     "output_type": "execute_result"
    }
   ],
   "source": [
    "data=pd.read_csv('craigslistVehiclesFull.csv', encoding='Latin1')\n",
    "data.head()"
   ]
  },
  {
   "cell_type": "markdown",
   "metadata": {},
   "source": [
    "## 3. Explanatory Data"
   ]
  },
  {
   "cell_type": "code",
   "execution_count": 3,
   "metadata": {},
   "outputs": [
    {
     "data": {
      "text/html": [
       "<div>\n",
       "<style scoped>\n",
       "    .dataframe tbody tr th:only-of-type {\n",
       "        vertical-align: middle;\n",
       "    }\n",
       "\n",
       "    .dataframe tbody tr th {\n",
       "        vertical-align: top;\n",
       "    }\n",
       "\n",
       "    .dataframe thead th {\n",
       "        text-align: right;\n",
       "    }\n",
       "</style>\n",
       "<table border=\"1\" class=\"dataframe\">\n",
       "  <thead>\n",
       "    <tr style=\"text-align: right;\">\n",
       "      <th></th>\n",
       "      <th>city</th>\n",
       "      <th>price</th>\n",
       "      <th>year</th>\n",
       "      <th>manufacturer</th>\n",
       "      <th>make</th>\n",
       "      <th>condition</th>\n",
       "      <th>cylinders</th>\n",
       "      <th>fuel</th>\n",
       "      <th>odometer</th>\n",
       "      <th>title_status</th>\n",
       "      <th>...</th>\n",
       "      <th>type</th>\n",
       "      <th>paint_color</th>\n",
       "      <th>lat</th>\n",
       "      <th>long</th>\n",
       "      <th>county_fips</th>\n",
       "      <th>county_name</th>\n",
       "      <th>state_fips</th>\n",
       "      <th>state_code</th>\n",
       "      <th>state_name</th>\n",
       "      <th>weather</th>\n",
       "    </tr>\n",
       "  </thead>\n",
       "  <tbody>\n",
       "    <tr>\n",
       "      <th>0</th>\n",
       "      <td>marshall</td>\n",
       "      <td>11900</td>\n",
       "      <td>2010.0</td>\n",
       "      <td>dodge</td>\n",
       "      <td>challenger se</td>\n",
       "      <td>good</td>\n",
       "      <td>6 cylinders</td>\n",
       "      <td>gas</td>\n",
       "      <td>43600.0</td>\n",
       "      <td>clean</td>\n",
       "      <td>...</td>\n",
       "      <td>coupe</td>\n",
       "      <td>red</td>\n",
       "      <td>43.4775</td>\n",
       "      <td>-96.7041</td>\n",
       "      <td>46083.0</td>\n",
       "      <td>Lincoln</td>\n",
       "      <td>46.0</td>\n",
       "      <td>SD</td>\n",
       "      <td>South Dakota</td>\n",
       "      <td>38.0</td>\n",
       "    </tr>\n",
       "    <tr>\n",
       "      <th>1</th>\n",
       "      <td>marshall</td>\n",
       "      <td>1515</td>\n",
       "      <td>1999.0</td>\n",
       "      <td>NaN</td>\n",
       "      <td>fleetwood</td>\n",
       "      <td>NaN</td>\n",
       "      <td>NaN</td>\n",
       "      <td>gas</td>\n",
       "      <td>NaN</td>\n",
       "      <td>clean</td>\n",
       "      <td>...</td>\n",
       "      <td>NaN</td>\n",
       "      <td>NaN</td>\n",
       "      <td>44.7612</td>\n",
       "      <td>-96.6907</td>\n",
       "      <td>46039.0</td>\n",
       "      <td>Deuel</td>\n",
       "      <td>46.0</td>\n",
       "      <td>SD</td>\n",
       "      <td>South Dakota</td>\n",
       "      <td>38.0</td>\n",
       "    </tr>\n",
       "    <tr>\n",
       "      <th>2</th>\n",
       "      <td>marshall</td>\n",
       "      <td>17550</td>\n",
       "      <td>2008.0</td>\n",
       "      <td>ford</td>\n",
       "      <td>f-150</td>\n",
       "      <td>NaN</td>\n",
       "      <td>NaN</td>\n",
       "      <td>gas</td>\n",
       "      <td>NaN</td>\n",
       "      <td>clean</td>\n",
       "      <td>...</td>\n",
       "      <td>NaN</td>\n",
       "      <td>NaN</td>\n",
       "      <td>44.1415</td>\n",
       "      <td>-103.2052</td>\n",
       "      <td>46093.0</td>\n",
       "      <td>Meade</td>\n",
       "      <td>46.0</td>\n",
       "      <td>SD</td>\n",
       "      <td>South Dakota</td>\n",
       "      <td>38.0</td>\n",
       "    </tr>\n",
       "    <tr>\n",
       "      <th>3</th>\n",
       "      <td>marshall</td>\n",
       "      <td>2800</td>\n",
       "      <td>2004.0</td>\n",
       "      <td>ford</td>\n",
       "      <td>taurus</td>\n",
       "      <td>good</td>\n",
       "      <td>6 cylinders</td>\n",
       "      <td>gas</td>\n",
       "      <td>168591.0</td>\n",
       "      <td>clean</td>\n",
       "      <td>...</td>\n",
       "      <td>sedan</td>\n",
       "      <td>grey</td>\n",
       "      <td>43.2845</td>\n",
       "      <td>-95.5930</td>\n",
       "      <td>19143.0</td>\n",
       "      <td>Osceola</td>\n",
       "      <td>19.0</td>\n",
       "      <td>IA</td>\n",
       "      <td>Iowa</td>\n",
       "      <td>47.0</td>\n",
       "    </tr>\n",
       "    <tr>\n",
       "      <th>4</th>\n",
       "      <td>marshall</td>\n",
       "      <td>400</td>\n",
       "      <td>2001.0</td>\n",
       "      <td>NaN</td>\n",
       "      <td>2001 Grand Prix</td>\n",
       "      <td>NaN</td>\n",
       "      <td>NaN</td>\n",
       "      <td>gas</td>\n",
       "      <td>217000.0</td>\n",
       "      <td>clean</td>\n",
       "      <td>...</td>\n",
       "      <td>NaN</td>\n",
       "      <td>NaN</td>\n",
       "      <td>43.0261</td>\n",
       "      <td>-94.4064</td>\n",
       "      <td>19109.0</td>\n",
       "      <td>Kossuth</td>\n",
       "      <td>19.0</td>\n",
       "      <td>IA</td>\n",
       "      <td>Iowa</td>\n",
       "      <td>47.0</td>\n",
       "    </tr>\n",
       "  </tbody>\n",
       "</table>\n",
       "<p>5 rows × 24 columns</p>\n",
       "</div>"
      ],
      "text/plain": [
       "       city  price    year manufacturer             make condition  \\\n",
       "0  marshall  11900  2010.0        dodge    challenger se      good   \n",
       "1  marshall   1515  1999.0          NaN        fleetwood       NaN   \n",
       "2  marshall  17550  2008.0         ford            f-150       NaN   \n",
       "3  marshall   2800  2004.0         ford           taurus      good   \n",
       "4  marshall    400  2001.0          NaN  2001 Grand Prix       NaN   \n",
       "\n",
       "     cylinders fuel  odometer title_status   ...     type paint_color  \\\n",
       "0  6 cylinders  gas   43600.0        clean   ...    coupe         red   \n",
       "1          NaN  gas       NaN        clean   ...      NaN         NaN   \n",
       "2          NaN  gas       NaN        clean   ...      NaN         NaN   \n",
       "3  6 cylinders  gas  168591.0        clean   ...    sedan        grey   \n",
       "4          NaN  gas  217000.0        clean   ...      NaN         NaN   \n",
       "\n",
       "       lat      long county_fips county_name  state_fips  state_code  \\\n",
       "0  43.4775  -96.7041     46083.0     Lincoln        46.0          SD   \n",
       "1  44.7612  -96.6907     46039.0       Deuel        46.0          SD   \n",
       "2  44.1415 -103.2052     46093.0       Meade        46.0          SD   \n",
       "3  43.2845  -95.5930     19143.0     Osceola        19.0          IA   \n",
       "4  43.0261  -94.4064     19109.0     Kossuth        19.0          IA   \n",
       "\n",
       "     state_name weather  \n",
       "0  South Dakota    38.0  \n",
       "1  South Dakota    38.0  \n",
       "2  South Dakota    38.0  \n",
       "3          Iowa    47.0  \n",
       "4          Iowa    47.0  \n",
       "\n",
       "[5 rows x 24 columns]"
      ]
     },
     "execution_count": 3,
     "metadata": {},
     "output_type": "execute_result"
    }
   ],
   "source": [
    "#In this part, i am dropping variables 'url' and 'image_url' cause this variables just contain information about link url\n",
    "#And i dont need those variab\n",
    "\n",
    "data=data.drop(['url','image_url'], axis=1)\n",
    "data.head()"
   ]
  },
  {
   "cell_type": "code",
   "execution_count": 4,
   "metadata": {},
   "outputs": [
    {
     "data": {
      "text/plain": [
       "(1723065, 24)"
      ]
     },
     "execution_count": 4,
     "metadata": {},
     "output_type": "execute_result"
    }
   ],
   "source": [
    "#get information about number of column and number of rows of data\n",
    "data.shape"
   ]
  },
  {
   "cell_type": "code",
   "execution_count": 5,
   "metadata": {},
   "outputs": [
    {
     "name": "stdout",
     "output_type": "stream",
     "text": [
      "<class 'pandas.core.frame.DataFrame'>\n",
      "RangeIndex: 1723065 entries, 0 to 1723064\n",
      "Data columns (total 24 columns):\n",
      "city            object\n",
      "price           int64\n",
      "year            float64\n",
      "manufacturer    object\n",
      "make            object\n",
      "condition       object\n",
      "cylinders       object\n",
      "fuel            object\n",
      "odometer        float64\n",
      "title_status    object\n",
      "transmission    object\n",
      "vin             object\n",
      "drive           object\n",
      "size            object\n",
      "type            object\n",
      "paint_color     object\n",
      "lat             float64\n",
      "long            float64\n",
      "county_fips     float64\n",
      "county_name     object\n",
      "state_fips      float64\n",
      "state_code      object\n",
      "state_name      object\n",
      "weather         float64\n",
      "dtypes: float64(7), int64(1), object(16)\n",
      "memory usage: 315.5+ MB\n"
     ]
    }
   ],
   "source": [
    "#get information about type of data\n",
    "data.info()"
   ]
  },
  {
   "cell_type": "code",
   "execution_count": 6,
   "metadata": {},
   "outputs": [
    {
     "data": {
      "text/plain": [
       "size            1123967\n",
       "vin             1118215\n",
       "type             702931\n",
       "condition        700790\n",
       "paint_color      695650\n",
       "cylinders        691291\n",
       "drive            661884\n",
       "odometer         564054\n",
       "manufacturer     136414\n",
       "make              69699\n",
       "weather           59428\n",
       "county_fips       58833\n",
       "county_name       58833\n",
       "state_fips        58833\n",
       "state_code        58833\n",
       "fuel              10367\n",
       "transmission       9022\n",
       "year               6315\n",
       "title_status       2554\n",
       "lat                   0\n",
       "state_name            0\n",
       "long                  0\n",
       "price                 0\n",
       "city                  0\n",
       "dtype: int64"
      ]
     },
     "execution_count": 6,
     "metadata": {},
     "output_type": "execute_result"
    }
   ],
   "source": [
    "#detection missing values each variables of data\n",
    "count_missing = data.isnull().sum().sort_values(ascending = False)\n",
    "count_missing"
   ]
  },
  {
   "cell_type": "code",
   "execution_count": 7,
   "metadata": {},
   "outputs": [
    {
     "data": {
      "text/plain": [
       "size            65.23\n",
       "vin             64.90\n",
       "type            40.80\n",
       "condition       40.67\n",
       "paint_color     40.37\n",
       "cylinders       40.12\n",
       "drive           38.41\n",
       "odometer        32.74\n",
       "manufacturer     7.92\n",
       "make             4.05\n",
       "weather          3.45\n",
       "county_fips      3.41\n",
       "county_name      3.41\n",
       "state_fips       3.41\n",
       "state_code       3.41\n",
       "fuel             0.60\n",
       "transmission     0.52\n",
       "year             0.37\n",
       "title_status     0.15\n",
       "lat              0.00\n",
       "state_name       0.00\n",
       "long             0.00\n",
       "price            0.00\n",
       "city             0.00\n",
       "dtype: float64"
      ]
     },
     "execution_count": 7,
     "metadata": {},
     "output_type": "execute_result"
    }
   ],
   "source": [
    "#count percentage of missing values each variables of data\n",
    "percentage = round(data.isnull().sum()/len(data)*100,2).sort_values(ascending = False)\n",
    "percentage"
   ]
  },
  {
   "cell_type": "code",
   "execution_count": 8,
   "metadata": {
    "scrolled": true
   },
   "outputs": [
    {
     "data": {
      "text/html": [
       "<div>\n",
       "<style scoped>\n",
       "    .dataframe tbody tr th:only-of-type {\n",
       "        vertical-align: middle;\n",
       "    }\n",
       "\n",
       "    .dataframe tbody tr th {\n",
       "        vertical-align: top;\n",
       "    }\n",
       "\n",
       "    .dataframe thead th {\n",
       "        text-align: right;\n",
       "    }\n",
       "</style>\n",
       "<table border=\"1\" class=\"dataframe\">\n",
       "  <thead>\n",
       "    <tr style=\"text-align: right;\">\n",
       "      <th></th>\n",
       "      <th>city</th>\n",
       "      <th>price</th>\n",
       "      <th>year</th>\n",
       "      <th>manufacturer</th>\n",
       "      <th>make</th>\n",
       "      <th>condition</th>\n",
       "      <th>cylinders</th>\n",
       "      <th>fuel</th>\n",
       "      <th>odometer</th>\n",
       "      <th>title_status</th>\n",
       "      <th>...</th>\n",
       "      <th>type</th>\n",
       "      <th>paint_color</th>\n",
       "      <th>lat</th>\n",
       "      <th>long</th>\n",
       "      <th>county_fips</th>\n",
       "      <th>county_name</th>\n",
       "      <th>state_fips</th>\n",
       "      <th>state_code</th>\n",
       "      <th>state_name</th>\n",
       "      <th>weather</th>\n",
       "    </tr>\n",
       "  </thead>\n",
       "  <tbody>\n",
       "    <tr>\n",
       "      <th>0</th>\n",
       "      <td>marshall</td>\n",
       "      <td>11900</td>\n",
       "      <td>2010.0</td>\n",
       "      <td>dodge</td>\n",
       "      <td>challenger se</td>\n",
       "      <td>good</td>\n",
       "      <td>6 cylinders</td>\n",
       "      <td>gas</td>\n",
       "      <td>43600.0</td>\n",
       "      <td>clean</td>\n",
       "      <td>...</td>\n",
       "      <td>coupe</td>\n",
       "      <td>red</td>\n",
       "      <td>43.4775</td>\n",
       "      <td>-96.7041</td>\n",
       "      <td>46083.0</td>\n",
       "      <td>Lincoln</td>\n",
       "      <td>46.0</td>\n",
       "      <td>SD</td>\n",
       "      <td>South Dakota</td>\n",
       "      <td>38.0</td>\n",
       "    </tr>\n",
       "    <tr>\n",
       "      <th>1</th>\n",
       "      <td>marshall</td>\n",
       "      <td>1515</td>\n",
       "      <td>1999.0</td>\n",
       "      <td>NaN</td>\n",
       "      <td>fleetwood</td>\n",
       "      <td>NaN</td>\n",
       "      <td>NaN</td>\n",
       "      <td>gas</td>\n",
       "      <td>NaN</td>\n",
       "      <td>clean</td>\n",
       "      <td>...</td>\n",
       "      <td>NaN</td>\n",
       "      <td>NaN</td>\n",
       "      <td>44.7612</td>\n",
       "      <td>-96.6907</td>\n",
       "      <td>46039.0</td>\n",
       "      <td>Deuel</td>\n",
       "      <td>46.0</td>\n",
       "      <td>SD</td>\n",
       "      <td>South Dakota</td>\n",
       "      <td>38.0</td>\n",
       "    </tr>\n",
       "    <tr>\n",
       "      <th>2</th>\n",
       "      <td>marshall</td>\n",
       "      <td>17550</td>\n",
       "      <td>2008.0</td>\n",
       "      <td>ford</td>\n",
       "      <td>f-150</td>\n",
       "      <td>NaN</td>\n",
       "      <td>NaN</td>\n",
       "      <td>gas</td>\n",
       "      <td>NaN</td>\n",
       "      <td>clean</td>\n",
       "      <td>...</td>\n",
       "      <td>NaN</td>\n",
       "      <td>NaN</td>\n",
       "      <td>44.1415</td>\n",
       "      <td>-103.2052</td>\n",
       "      <td>46093.0</td>\n",
       "      <td>Meade</td>\n",
       "      <td>46.0</td>\n",
       "      <td>SD</td>\n",
       "      <td>South Dakota</td>\n",
       "      <td>38.0</td>\n",
       "    </tr>\n",
       "    <tr>\n",
       "      <th>3</th>\n",
       "      <td>marshall</td>\n",
       "      <td>2800</td>\n",
       "      <td>2004.0</td>\n",
       "      <td>ford</td>\n",
       "      <td>taurus</td>\n",
       "      <td>good</td>\n",
       "      <td>6 cylinders</td>\n",
       "      <td>gas</td>\n",
       "      <td>168591.0</td>\n",
       "      <td>clean</td>\n",
       "      <td>...</td>\n",
       "      <td>sedan</td>\n",
       "      <td>grey</td>\n",
       "      <td>43.2845</td>\n",
       "      <td>-95.5930</td>\n",
       "      <td>19143.0</td>\n",
       "      <td>Osceola</td>\n",
       "      <td>19.0</td>\n",
       "      <td>IA</td>\n",
       "      <td>Iowa</td>\n",
       "      <td>47.0</td>\n",
       "    </tr>\n",
       "    <tr>\n",
       "      <th>4</th>\n",
       "      <td>marshall</td>\n",
       "      <td>400</td>\n",
       "      <td>2001.0</td>\n",
       "      <td>NaN</td>\n",
       "      <td>2001 Grand Prix</td>\n",
       "      <td>NaN</td>\n",
       "      <td>NaN</td>\n",
       "      <td>gas</td>\n",
       "      <td>217000.0</td>\n",
       "      <td>clean</td>\n",
       "      <td>...</td>\n",
       "      <td>NaN</td>\n",
       "      <td>NaN</td>\n",
       "      <td>43.0261</td>\n",
       "      <td>-94.4064</td>\n",
       "      <td>19109.0</td>\n",
       "      <td>Kossuth</td>\n",
       "      <td>19.0</td>\n",
       "      <td>IA</td>\n",
       "      <td>Iowa</td>\n",
       "      <td>47.0</td>\n",
       "    </tr>\n",
       "  </tbody>\n",
       "</table>\n",
       "<p>5 rows × 22 columns</p>\n",
       "</div>"
      ],
      "text/plain": [
       "       city  price    year manufacturer             make condition  \\\n",
       "0  marshall  11900  2010.0        dodge    challenger se      good   \n",
       "1  marshall   1515  1999.0          NaN        fleetwood       NaN   \n",
       "2  marshall  17550  2008.0         ford            f-150       NaN   \n",
       "3  marshall   2800  2004.0         ford           taurus      good   \n",
       "4  marshall    400  2001.0          NaN  2001 Grand Prix       NaN   \n",
       "\n",
       "     cylinders fuel  odometer title_status   ...     type paint_color  \\\n",
       "0  6 cylinders  gas   43600.0        clean   ...    coupe         red   \n",
       "1          NaN  gas       NaN        clean   ...      NaN         NaN   \n",
       "2          NaN  gas       NaN        clean   ...      NaN         NaN   \n",
       "3  6 cylinders  gas  168591.0        clean   ...    sedan        grey   \n",
       "4          NaN  gas  217000.0        clean   ...      NaN         NaN   \n",
       "\n",
       "       lat      long  county_fips  county_name  state_fips state_code  \\\n",
       "0  43.4775  -96.7041      46083.0      Lincoln        46.0         SD   \n",
       "1  44.7612  -96.6907      46039.0        Deuel        46.0         SD   \n",
       "2  44.1415 -103.2052      46093.0        Meade        46.0         SD   \n",
       "3  43.2845  -95.5930      19143.0      Osceola        19.0         IA   \n",
       "4  43.0261  -94.4064      19109.0      Kossuth        19.0         IA   \n",
       "\n",
       "     state_name weather  \n",
       "0  South Dakota    38.0  \n",
       "1  South Dakota    38.0  \n",
       "2  South Dakota    38.0  \n",
       "3          Iowa    47.0  \n",
       "4          Iowa    47.0  \n",
       "\n",
       "[5 rows x 22 columns]"
      ]
     },
     "execution_count": 8,
     "metadata": {},
     "output_type": "execute_result"
    }
   ],
   "source": [
    "#cause from percentage of missing values in each variable, size and vins has > 60% missing value in thir dataset\n",
    "#so, in this part. I handle this problem to deleting column of size and vins. And from the information dataset, size is size of vehicles\n",
    "# and vins is Vehicle Identification Number. so, i think this variable is not important to analysis\n",
    "\n",
    "data=data.drop(['size','vin'], axis=1)\n",
    "data.head()"
   ]
  },
  {
   "cell_type": "markdown",
   "metadata": {},
   "source": [
    "## 3.1 Handle Missing Value"
   ]
  },
  {
   "cell_type": "markdown",
   "metadata": {},
   "source": [
    "### In this part, i am handling missing values using mode of data for categorical data and median of data for numerical data."
   ]
  },
  {
   "cell_type": "code",
   "execution_count": 9,
   "metadata": {},
   "outputs": [],
   "source": [
    "##I using median cause median is robust for outlier."
   ]
  },
  {
   "cell_type": "code",
   "execution_count": 10,
   "metadata": {},
   "outputs": [],
   "source": [
    "data['type'] = data['type'].fillna(data['type'].mode().values[0])"
   ]
  },
  {
   "cell_type": "code",
   "execution_count": 11,
   "metadata": {},
   "outputs": [],
   "source": [
    "data['condition'] = data['condition'].fillna(data['condition'].mode().values[0])"
   ]
  },
  {
   "cell_type": "code",
   "execution_count": 12,
   "metadata": {},
   "outputs": [],
   "source": [
    "data['paint_color'] = data['paint_color'].fillna(data['paint_color'].mode().values[0])"
   ]
  },
  {
   "cell_type": "code",
   "execution_count": 13,
   "metadata": {},
   "outputs": [],
   "source": [
    "data['cylinders'] = data['cylinders'].fillna(data['cylinders'].mode().values[0])"
   ]
  },
  {
   "cell_type": "code",
   "execution_count": 14,
   "metadata": {},
   "outputs": [],
   "source": [
    "data['drive'] = data['drive'].fillna(data['drive'].mode().values[0])"
   ]
  },
  {
   "cell_type": "code",
   "execution_count": 15,
   "metadata": {},
   "outputs": [],
   "source": [
    "data['manufacturer'] = data['manufacturer'].fillna(data['manufacturer'].mode().values[0])"
   ]
  },
  {
   "cell_type": "code",
   "execution_count": 16,
   "metadata": {},
   "outputs": [],
   "source": [
    "data['make'] = data['make'].fillna(data['make'].mode().values[0])"
   ]
  },
  {
   "cell_type": "code",
   "execution_count": 17,
   "metadata": {},
   "outputs": [],
   "source": [
    "data['county_name'] = data['county_name'].fillna(data['county_name'].mode().values[0])"
   ]
  },
  {
   "cell_type": "code",
   "execution_count": 18,
   "metadata": {},
   "outputs": [],
   "source": [
    "data['state_code'] = data['state_code'].fillna(data['state_code'].mode().values[0])"
   ]
  },
  {
   "cell_type": "code",
   "execution_count": 19,
   "metadata": {},
   "outputs": [],
   "source": [
    "data['fuel'] = data['fuel'].fillna(data['fuel'].mode().values[0])"
   ]
  },
  {
   "cell_type": "code",
   "execution_count": 20,
   "metadata": {},
   "outputs": [],
   "source": [
    "data['transmission'] = data['transmission'].fillna(data['transmission'].mode().values[0])"
   ]
  },
  {
   "cell_type": "code",
   "execution_count": 21,
   "metadata": {},
   "outputs": [],
   "source": [
    "data['title_status'] = data['title_status'].fillna(data['title_status'].mode().values[0])"
   ]
  },
  {
   "cell_type": "code",
   "execution_count": 22,
   "metadata": {},
   "outputs": [],
   "source": [
    "data['year'] = data['year'].fillna(data['year'].mode().values[0])"
   ]
  },
  {
   "cell_type": "code",
   "execution_count": 23,
   "metadata": {},
   "outputs": [],
   "source": [
    "data['weather'] = data['weather'].fillna(data['weather'].mode().values[0])"
   ]
  },
  {
   "cell_type": "code",
   "execution_count": 24,
   "metadata": {},
   "outputs": [
    {
     "data": {
      "text/html": [
       "<div>\n",
       "<style scoped>\n",
       "    .dataframe tbody tr th:only-of-type {\n",
       "        vertical-align: middle;\n",
       "    }\n",
       "\n",
       "    .dataframe tbody tr th {\n",
       "        vertical-align: top;\n",
       "    }\n",
       "\n",
       "    .dataframe thead th {\n",
       "        text-align: right;\n",
       "    }\n",
       "</style>\n",
       "<table border=\"1\" class=\"dataframe\">\n",
       "  <thead>\n",
       "    <tr style=\"text-align: right;\">\n",
       "      <th></th>\n",
       "      <th>city</th>\n",
       "      <th>price</th>\n",
       "      <th>year</th>\n",
       "      <th>manufacturer</th>\n",
       "      <th>make</th>\n",
       "      <th>condition</th>\n",
       "      <th>cylinders</th>\n",
       "      <th>fuel</th>\n",
       "      <th>odometer</th>\n",
       "      <th>title_status</th>\n",
       "      <th>...</th>\n",
       "      <th>type</th>\n",
       "      <th>paint_color</th>\n",
       "      <th>lat</th>\n",
       "      <th>long</th>\n",
       "      <th>county_fips</th>\n",
       "      <th>county_name</th>\n",
       "      <th>state_fips</th>\n",
       "      <th>state_code</th>\n",
       "      <th>state_name</th>\n",
       "      <th>weather</th>\n",
       "    </tr>\n",
       "  </thead>\n",
       "  <tbody>\n",
       "    <tr>\n",
       "      <th>0</th>\n",
       "      <td>marshall</td>\n",
       "      <td>11900</td>\n",
       "      <td>2010.0</td>\n",
       "      <td>dodge</td>\n",
       "      <td>challenger se</td>\n",
       "      <td>good</td>\n",
       "      <td>6 cylinders</td>\n",
       "      <td>gas</td>\n",
       "      <td>43600.0</td>\n",
       "      <td>clean</td>\n",
       "      <td>...</td>\n",
       "      <td>coupe</td>\n",
       "      <td>red</td>\n",
       "      <td>43.4775</td>\n",
       "      <td>-96.7041</td>\n",
       "      <td>46083.0</td>\n",
       "      <td>Lincoln</td>\n",
       "      <td>46.0</td>\n",
       "      <td>SD</td>\n",
       "      <td>South Dakota</td>\n",
       "      <td>38.0</td>\n",
       "    </tr>\n",
       "    <tr>\n",
       "      <th>1</th>\n",
       "      <td>marshall</td>\n",
       "      <td>1515</td>\n",
       "      <td>1999.0</td>\n",
       "      <td>ford</td>\n",
       "      <td>fleetwood</td>\n",
       "      <td>excellent</td>\n",
       "      <td>6 cylinders</td>\n",
       "      <td>gas</td>\n",
       "      <td>107000.0</td>\n",
       "      <td>clean</td>\n",
       "      <td>...</td>\n",
       "      <td>sedan</td>\n",
       "      <td>white</td>\n",
       "      <td>44.7612</td>\n",
       "      <td>-96.6907</td>\n",
       "      <td>46039.0</td>\n",
       "      <td>Deuel</td>\n",
       "      <td>46.0</td>\n",
       "      <td>SD</td>\n",
       "      <td>South Dakota</td>\n",
       "      <td>38.0</td>\n",
       "    </tr>\n",
       "    <tr>\n",
       "      <th>2</th>\n",
       "      <td>marshall</td>\n",
       "      <td>17550</td>\n",
       "      <td>2008.0</td>\n",
       "      <td>ford</td>\n",
       "      <td>f-150</td>\n",
       "      <td>excellent</td>\n",
       "      <td>6 cylinders</td>\n",
       "      <td>gas</td>\n",
       "      <td>107000.0</td>\n",
       "      <td>clean</td>\n",
       "      <td>...</td>\n",
       "      <td>sedan</td>\n",
       "      <td>white</td>\n",
       "      <td>44.1415</td>\n",
       "      <td>-103.2052</td>\n",
       "      <td>46093.0</td>\n",
       "      <td>Meade</td>\n",
       "      <td>46.0</td>\n",
       "      <td>SD</td>\n",
       "      <td>South Dakota</td>\n",
       "      <td>38.0</td>\n",
       "    </tr>\n",
       "    <tr>\n",
       "      <th>3</th>\n",
       "      <td>marshall</td>\n",
       "      <td>2800</td>\n",
       "      <td>2004.0</td>\n",
       "      <td>ford</td>\n",
       "      <td>taurus</td>\n",
       "      <td>good</td>\n",
       "      <td>6 cylinders</td>\n",
       "      <td>gas</td>\n",
       "      <td>168591.0</td>\n",
       "      <td>clean</td>\n",
       "      <td>...</td>\n",
       "      <td>sedan</td>\n",
       "      <td>grey</td>\n",
       "      <td>43.2845</td>\n",
       "      <td>-95.5930</td>\n",
       "      <td>19143.0</td>\n",
       "      <td>Osceola</td>\n",
       "      <td>19.0</td>\n",
       "      <td>IA</td>\n",
       "      <td>Iowa</td>\n",
       "      <td>47.0</td>\n",
       "    </tr>\n",
       "    <tr>\n",
       "      <th>4</th>\n",
       "      <td>marshall</td>\n",
       "      <td>400</td>\n",
       "      <td>2001.0</td>\n",
       "      <td>ford</td>\n",
       "      <td>2001 Grand Prix</td>\n",
       "      <td>excellent</td>\n",
       "      <td>6 cylinders</td>\n",
       "      <td>gas</td>\n",
       "      <td>217000.0</td>\n",
       "      <td>clean</td>\n",
       "      <td>...</td>\n",
       "      <td>sedan</td>\n",
       "      <td>white</td>\n",
       "      <td>43.0261</td>\n",
       "      <td>-94.4064</td>\n",
       "      <td>19109.0</td>\n",
       "      <td>Kossuth</td>\n",
       "      <td>19.0</td>\n",
       "      <td>IA</td>\n",
       "      <td>Iowa</td>\n",
       "      <td>47.0</td>\n",
       "    </tr>\n",
       "  </tbody>\n",
       "</table>\n",
       "<p>5 rows × 22 columns</p>\n",
       "</div>"
      ],
      "text/plain": [
       "       city  price    year manufacturer             make  condition  \\\n",
       "0  marshall  11900  2010.0        dodge    challenger se       good   \n",
       "1  marshall   1515  1999.0         ford        fleetwood  excellent   \n",
       "2  marshall  17550  2008.0         ford            f-150  excellent   \n",
       "3  marshall   2800  2004.0         ford           taurus       good   \n",
       "4  marshall    400  2001.0         ford  2001 Grand Prix  excellent   \n",
       "\n",
       "     cylinders fuel  odometer title_status   ...     type paint_color  \\\n",
       "0  6 cylinders  gas   43600.0        clean   ...    coupe         red   \n",
       "1  6 cylinders  gas  107000.0        clean   ...    sedan       white   \n",
       "2  6 cylinders  gas  107000.0        clean   ...    sedan       white   \n",
       "3  6 cylinders  gas  168591.0        clean   ...    sedan        grey   \n",
       "4  6 cylinders  gas  217000.0        clean   ...    sedan       white   \n",
       "\n",
       "       lat      long  county_fips  county_name  state_fips state_code  \\\n",
       "0  43.4775  -96.7041      46083.0      Lincoln        46.0         SD   \n",
       "1  44.7612  -96.6907      46039.0        Deuel        46.0         SD   \n",
       "2  44.1415 -103.2052      46093.0        Meade        46.0         SD   \n",
       "3  43.2845  -95.5930      19143.0      Osceola        19.0         IA   \n",
       "4  43.0261  -94.4064      19109.0      Kossuth        19.0         IA   \n",
       "\n",
       "     state_name weather  \n",
       "0  South Dakota    38.0  \n",
       "1  South Dakota    38.0  \n",
       "2  South Dakota    38.0  \n",
       "3          Iowa    47.0  \n",
       "4          Iowa    47.0  \n",
       "\n",
       "[5 rows x 22 columns]"
      ]
     },
     "execution_count": 24,
     "metadata": {},
     "output_type": "execute_result"
    }
   ],
   "source": [
    "median_value1=data['odometer'].median()\n",
    "median_value3=data['state_fips'].median()\n",
    "median_value4=data['county_fips'].median()\n",
    "data['odometer']=data['odometer'].fillna(median_value1)\n",
    "data['state_fips']=data['state_fips'].fillna(median_value3)\n",
    "data['county_fips']=data['county_fips'].fillna(median_value4)\n",
    "data.head()\n"
   ]
  },
  {
   "cell_type": "code",
   "execution_count": 25,
   "metadata": {},
   "outputs": [
    {
     "data": {
      "text/plain": [
       "weather         0\n",
       "state_name      0\n",
       "price           0\n",
       "year            0\n",
       "manufacturer    0\n",
       "make            0\n",
       "condition       0\n",
       "cylinders       0\n",
       "fuel            0\n",
       "odometer        0\n",
       "title_status    0\n",
       "transmission    0\n",
       "drive           0\n",
       "type            0\n",
       "paint_color     0\n",
       "lat             0\n",
       "long            0\n",
       "county_fips     0\n",
       "county_name     0\n",
       "state_fips      0\n",
       "state_code      0\n",
       "city            0\n",
       "dtype: int64"
      ]
     },
     "execution_count": 25,
     "metadata": {},
     "output_type": "execute_result"
    }
   ],
   "source": [
    "count_missing = data.isnull().sum().sort_values(ascending = False)\n",
    "count_missing"
   ]
  },
  {
   "cell_type": "markdown",
   "metadata": {},
   "source": [
    "### Formatting"
   ]
  },
  {
   "cell_type": "code",
   "execution_count": 127,
   "metadata": {},
   "outputs": [
    {
     "name": "stdout",
     "output_type": "stream",
     "text": [
      "<class 'pandas.core.frame.DataFrame'>\n",
      "RangeIndex: 1723065 entries, 0 to 1723064\n",
      "Data columns (total 22 columns):\n",
      "city            object\n",
      "price           int64\n",
      "year            object\n",
      "manufacturer    object\n",
      "make            object\n",
      "condition       object\n",
      "cylinders       object\n",
      "fuel            object\n",
      "odometer        float64\n",
      "title_status    object\n",
      "transmission    object\n",
      "drive           object\n",
      "type            object\n",
      "paint_color     object\n",
      "lat             float64\n",
      "long            float64\n",
      "county_fips     float64\n",
      "county_name     object\n",
      "state_fips      float64\n",
      "state_code      object\n",
      "state_name      object\n",
      "weather         object\n",
      "dtypes: float64(5), int64(1), object(16)\n",
      "memory usage: 289.2+ MB\n"
     ]
    }
   ],
   "source": [
    "#Conver numerical data to categorical data\n",
    "\n",
    "data['year']=data['year'].astype(float).astype(object)\n",
    "data['weather']=data['weather'].astype(float).astype(object)\n",
    "data.info()"
   ]
  },
  {
   "cell_type": "markdown",
   "metadata": {},
   "source": [
    "## 3.2 EDA Plotting"
   ]
  },
  {
   "cell_type": "code",
   "execution_count": null,
   "metadata": {},
   "outputs": [],
   "source": [
    "#create numerical variabel to create dataframe that contain numerical type of data\n",
    "\n",
    "numerical= ['price', 'odometer', 'lat', 'long', 'county_fips', 'state_fips']"
   ]
  },
  {
   "cell_type": "code",
   "execution_count": 27,
   "metadata": {},
   "outputs": [
    {
     "data": {
      "text/html": [
       "<div>\n",
       "<style scoped>\n",
       "    .dataframe tbody tr th:only-of-type {\n",
       "        vertical-align: middle;\n",
       "    }\n",
       "\n",
       "    .dataframe tbody tr th {\n",
       "        vertical-align: top;\n",
       "    }\n",
       "\n",
       "    .dataframe thead th {\n",
       "        text-align: right;\n",
       "    }\n",
       "</style>\n",
       "<table border=\"1\" class=\"dataframe\">\n",
       "  <thead>\n",
       "    <tr style=\"text-align: right;\">\n",
       "      <th></th>\n",
       "      <th>price</th>\n",
       "      <th>odometer</th>\n",
       "      <th>lat</th>\n",
       "      <th>long</th>\n",
       "      <th>county_fips</th>\n",
       "      <th>state_fips</th>\n",
       "    </tr>\n",
       "  </thead>\n",
       "  <tbody>\n",
       "    <tr>\n",
       "      <th>0</th>\n",
       "      <td>11900</td>\n",
       "      <td>43600.0</td>\n",
       "      <td>43.4775</td>\n",
       "      <td>-96.7041</td>\n",
       "      <td>46083.0</td>\n",
       "      <td>46.0</td>\n",
       "    </tr>\n",
       "    <tr>\n",
       "      <th>1</th>\n",
       "      <td>1515</td>\n",
       "      <td>107000.0</td>\n",
       "      <td>44.7612</td>\n",
       "      <td>-96.6907</td>\n",
       "      <td>46039.0</td>\n",
       "      <td>46.0</td>\n",
       "    </tr>\n",
       "    <tr>\n",
       "      <th>2</th>\n",
       "      <td>17550</td>\n",
       "      <td>107000.0</td>\n",
       "      <td>44.1415</td>\n",
       "      <td>-103.2052</td>\n",
       "      <td>46093.0</td>\n",
       "      <td>46.0</td>\n",
       "    </tr>\n",
       "    <tr>\n",
       "      <th>3</th>\n",
       "      <td>2800</td>\n",
       "      <td>168591.0</td>\n",
       "      <td>43.2845</td>\n",
       "      <td>-95.5930</td>\n",
       "      <td>19143.0</td>\n",
       "      <td>19.0</td>\n",
       "    </tr>\n",
       "    <tr>\n",
       "      <th>4</th>\n",
       "      <td>400</td>\n",
       "      <td>217000.0</td>\n",
       "      <td>43.0261</td>\n",
       "      <td>-94.4064</td>\n",
       "      <td>19109.0</td>\n",
       "      <td>19.0</td>\n",
       "    </tr>\n",
       "  </tbody>\n",
       "</table>\n",
       "</div>"
      ],
      "text/plain": [
       "   price  odometer      lat      long  county_fips  state_fips\n",
       "0  11900   43600.0  43.4775  -96.7041      46083.0        46.0\n",
       "1   1515  107000.0  44.7612  -96.6907      46039.0        46.0\n",
       "2  17550  107000.0  44.1415 -103.2052      46093.0        46.0\n",
       "3   2800  168591.0  43.2845  -95.5930      19143.0        19.0\n",
       "4    400  217000.0  43.0261  -94.4064      19109.0        19.0"
      ]
     },
     "execution_count": 27,
     "metadata": {},
     "output_type": "execute_result"
    }
   ],
   "source": [
    "#create numerical and categorical dataframe to simply making plot\n",
    "\n",
    "numerik = ['price', 'odometer', 'lat', 'long', 'county_fips', 'state_fips']\n",
    "categorical=data.drop(numerik,axis=1)\n",
    "numerical=data[numerik]\n",
    "numerical.head()"
   ]
  },
  {
   "cell_type": "code",
   "execution_count": 28,
   "metadata": {},
   "outputs": [
    {
     "data": {
      "text/html": [
       "<div>\n",
       "<style scoped>\n",
       "    .dataframe tbody tr th:only-of-type {\n",
       "        vertical-align: middle;\n",
       "    }\n",
       "\n",
       "    .dataframe tbody tr th {\n",
       "        vertical-align: top;\n",
       "    }\n",
       "\n",
       "    .dataframe thead th {\n",
       "        text-align: right;\n",
       "    }\n",
       "</style>\n",
       "<table border=\"1\" class=\"dataframe\">\n",
       "  <thead>\n",
       "    <tr style=\"text-align: right;\">\n",
       "      <th></th>\n",
       "      <th>price</th>\n",
       "      <th>odometer</th>\n",
       "      <th>lat</th>\n",
       "      <th>long</th>\n",
       "      <th>county_fips</th>\n",
       "      <th>state_fips</th>\n",
       "    </tr>\n",
       "  </thead>\n",
       "  <tbody>\n",
       "    <tr>\n",
       "      <th>count</th>\n",
       "      <td>1.723065e+06</td>\n",
       "      <td>1.723065e+06</td>\n",
       "      <td>1.723065e+06</td>\n",
       "      <td>1.723065e+06</td>\n",
       "      <td>1.723065e+06</td>\n",
       "      <td>1.723065e+06</td>\n",
       "    </tr>\n",
       "    <tr>\n",
       "      <th>mean</th>\n",
       "      <td>1.075540e+05</td>\n",
       "      <td>1.114655e+05</td>\n",
       "      <td>3.878195e+01</td>\n",
       "      <td>-9.371198e+01</td>\n",
       "      <td>2.845069e+04</td>\n",
       "      <td>2.836650e+01</td>\n",
       "    </tr>\n",
       "    <tr>\n",
       "      <th>std</th>\n",
       "      <td>1.004439e+07</td>\n",
       "      <td>1.122891e+05</td>\n",
       "      <td>5.976412e+00</td>\n",
       "      <td>1.696519e+01</td>\n",
       "      <td>1.577813e+04</td>\n",
       "      <td>1.575661e+01</td>\n",
       "    </tr>\n",
       "    <tr>\n",
       "      <th>min</th>\n",
       "      <td>1.000000e+00</td>\n",
       "      <td>0.000000e+00</td>\n",
       "      <td>-8.481005e+01</td>\n",
       "      <td>-1.000000e+03</td>\n",
       "      <td>1.001000e+03</td>\n",
       "      <td>1.000000e+00</td>\n",
       "    </tr>\n",
       "    <tr>\n",
       "      <th>25%</th>\n",
       "      <td>3.295000e+03</td>\n",
       "      <td>8.433900e+04</td>\n",
       "      <td>3.491900e+01</td>\n",
       "      <td>-1.058010e+02</td>\n",
       "      <td>1.305100e+04</td>\n",
       "      <td>1.300000e+01</td>\n",
       "    </tr>\n",
       "    <tr>\n",
       "      <th>50%</th>\n",
       "      <td>7.000000e+03</td>\n",
       "      <td>1.070000e+05</td>\n",
       "      <td>3.940989e+01</td>\n",
       "      <td>-8.824070e+01</td>\n",
       "      <td>2.902100e+04</td>\n",
       "      <td>2.900000e+01</td>\n",
       "    </tr>\n",
       "    <tr>\n",
       "      <th>75%</th>\n",
       "      <td>1.499900e+04</td>\n",
       "      <td>1.299350e+05</td>\n",
       "      <td>4.255459e+01</td>\n",
       "      <td>-8.102650e+01</td>\n",
       "      <td>4.104700e+04</td>\n",
       "      <td>4.100000e+01</td>\n",
       "    </tr>\n",
       "    <tr>\n",
       "      <th>max</th>\n",
       "      <td>2.068627e+09</td>\n",
       "      <td>1.000000e+07</td>\n",
       "      <td>9.000000e+01</td>\n",
       "      <td>1.397061e+02</td>\n",
       "      <td>5.604500e+04</td>\n",
       "      <td>5.600000e+01</td>\n",
       "    </tr>\n",
       "  </tbody>\n",
       "</table>\n",
       "</div>"
      ],
      "text/plain": [
       "              price      odometer           lat          long   county_fips  \\\n",
       "count  1.723065e+06  1.723065e+06  1.723065e+06  1.723065e+06  1.723065e+06   \n",
       "mean   1.075540e+05  1.114655e+05  3.878195e+01 -9.371198e+01  2.845069e+04   \n",
       "std    1.004439e+07  1.122891e+05  5.976412e+00  1.696519e+01  1.577813e+04   \n",
       "min    1.000000e+00  0.000000e+00 -8.481005e+01 -1.000000e+03  1.001000e+03   \n",
       "25%    3.295000e+03  8.433900e+04  3.491900e+01 -1.058010e+02  1.305100e+04   \n",
       "50%    7.000000e+03  1.070000e+05  3.940989e+01 -8.824070e+01  2.902100e+04   \n",
       "75%    1.499900e+04  1.299350e+05  4.255459e+01 -8.102650e+01  4.104700e+04   \n",
       "max    2.068627e+09  1.000000e+07  9.000000e+01  1.397061e+02  5.604500e+04   \n",
       "\n",
       "         state_fips  \n",
       "count  1.723065e+06  \n",
       "mean   2.836650e+01  \n",
       "std    1.575661e+01  \n",
       "min    1.000000e+00  \n",
       "25%    1.300000e+01  \n",
       "50%    2.900000e+01  \n",
       "75%    4.100000e+01  \n",
       "max    5.600000e+01  "
      ]
     },
     "execution_count": 28,
     "metadata": {},
     "output_type": "execute_result"
    }
   ],
   "source": [
    "numerical.describe()"
   ]
  },
  {
   "cell_type": "markdown",
   "metadata": {},
   "source": [
    "### Detection outlier in numerical variable"
   ]
  },
  {
   "cell_type": "code",
   "execution_count": 36,
   "metadata": {},
   "outputs": [
    {
     "data": {
      "text/plain": [
       "<matplotlib.axes._subplots.AxesSubplot at 0x1c7f68b6a90>"
      ]
     },
     "execution_count": 36,
     "metadata": {},
     "output_type": "execute_result"
    },
    {
     "data": {
      "image/png": "[encoded data removed]",
      "text/plain": [
       "<matplotlib.figure.Figure at 0x1c7f68a3cf8>"
      ]
     },
     "metadata": {},
     "output_type": "display_data"
    }
   ],
   "source": [
    "numerical.boxplot(column='price')"
   ]
  },
  {
   "cell_type": "code",
   "execution_count": 30,
   "metadata": {
    "scrolled": true
   },
   "outputs": [
    {
     "data": {
      "text/plain": [
       "<matplotlib.axes._subplots.AxesSubplot at 0x1c7ec217978>"
      ]
     },
     "execution_count": 30,
     "metadata": {},
     "output_type": "execute_result"
    },
    {
     "data": {
      "image/png": "[encoded data removed]",
      "text/plain": [
       "<matplotlib.figure.Figure at 0x1c7ef3ef080>"
      ]
     },
     "metadata": {},
     "output_type": "display_data"
    }
   ],
   "source": [
    "numerical.boxplot(column='odometer')"
   ]
  },
  {
   "cell_type": "code",
   "execution_count": 31,
   "metadata": {},
   "outputs": [
    {
     "data": {
      "text/plain": [
       "<matplotlib.axes._subplots.AxesSubplot at 0x1c7ec289c50>"
      ]
     },
     "execution_count": 31,
     "metadata": {},
     "output_type": "execute_result"
    },
    {
     "data": {
      "image/png": "[encoded data removed]",
      "text/plain": [
       "<matplotlib.figure.Figure at 0x1c7ec267a90>"
      ]
     },
     "metadata": {},
     "output_type": "display_data"
    }
   ],
   "source": [
    "numerical.boxplot(column='lat')"
   ]
  },
  {
   "cell_type": "code",
   "execution_count": 32,
   "metadata": {},
   "outputs": [
    {
     "data": {
      "text/plain": [
       "<matplotlib.axes._subplots.AxesSubplot at 0x1c7f61eecc0>"
      ]
     },
     "execution_count": 32,
     "metadata": {},
     "output_type": "execute_result"
    },
    {
     "data": {
      "image/png": "[encoded data removed]",
      "text/plain": [
       "<matplotlib.figure.Figure at 0x1c7f62441d0>"
      ]
     },
     "metadata": {},
     "output_type": "display_data"
    }
   ],
   "source": [
    "numerical.boxplot(column='long')"
   ]
  },
  {
   "cell_type": "code",
   "execution_count": 33,
   "metadata": {},
   "outputs": [
    {
     "data": {
      "text/plain": [
       "<matplotlib.axes._subplots.AxesSubplot at 0x1c7f625ecf8>"
      ]
     },
     "execution_count": 33,
     "metadata": {},
     "output_type": "execute_result"
    },
    {
     "data": {
      "image/png": "[encoded data removed]",
      "text/plain": [
       "<matplotlib.figure.Figure at 0x1c7f67df9e8>"
      ]
     },
     "metadata": {},
     "output_type": "display_data"
    }
   ],
   "source": [
    "numerical.boxplot(column='county_fips')"
   ]
  },
  {
   "cell_type": "code",
   "execution_count": 34,
   "metadata": {},
   "outputs": [
    {
     "data": {
      "text/plain": [
       "<matplotlib.axes._subplots.AxesSubplot at 0x1c7f67f3550>"
      ]
     },
     "execution_count": 34,
     "metadata": {},
     "output_type": "execute_result"
    },
    {
     "data": {
      "image/png": "[encoded data removed]",
      "text/plain": [
       "<matplotlib.figure.Figure at 0x1c7f6841978>"
      ]
     },
     "metadata": {},
     "output_type": "display_data"
    }
   ],
   "source": [
    "numerical.boxplot(column='state_fips')"
   ]
  },
  {
   "cell_type": "markdown",
   "metadata": {},
   "source": [
    "## 3.3 Handle outlier "
   ]
  },
  {
   "cell_type": "code",
   "execution_count": null,
   "metadata": {},
   "outputs": [],
   "source": [
    "# Handle outlier using normalization min-max\n",
    "# In this part, i just handle normalization for price and odometer variables, and ignore variable lat and lot \n",
    "# because in that variable is about informatuion location of Latitude of vehicle and Lotitude of vehicle and i think isn't important"
   ]
  },
  {
   "cell_type": "code",
   "execution_count": 108,
   "metadata": {},
   "outputs": [
    {
     "data": {
      "text/html": [
       "<div>\n",
       "<style scoped>\n",
       "    .dataframe tbody tr th:only-of-type {\n",
       "        vertical-align: middle;\n",
       "    }\n",
       "\n",
       "    .dataframe tbody tr th {\n",
       "        vertical-align: top;\n",
       "    }\n",
       "\n",
       "    .dataframe thead th {\n",
       "        text-align: right;\n",
       "    }\n",
       "</style>\n",
       "<table border=\"1\" class=\"dataframe\">\n",
       "  <thead>\n",
       "    <tr style=\"text-align: right;\">\n",
       "      <th></th>\n",
       "      <th>price</th>\n",
       "      <th>odometer</th>\n",
       "      <th>lat</th>\n",
       "      <th>long</th>\n",
       "      <th>county_fips</th>\n",
       "      <th>state_fips</th>\n",
       "    </tr>\n",
       "  </thead>\n",
       "  <tbody>\n",
       "    <tr>\n",
       "      <th>0</th>\n",
       "      <td>11900</td>\n",
       "      <td>43600.0</td>\n",
       "      <td>43.4775</td>\n",
       "      <td>-96.7041</td>\n",
       "      <td>46083.0</td>\n",
       "      <td>46.0</td>\n",
       "    </tr>\n",
       "    <tr>\n",
       "      <th>1</th>\n",
       "      <td>1515</td>\n",
       "      <td>107000.0</td>\n",
       "      <td>44.7612</td>\n",
       "      <td>-96.6907</td>\n",
       "      <td>46039.0</td>\n",
       "      <td>46.0</td>\n",
       "    </tr>\n",
       "    <tr>\n",
       "      <th>2</th>\n",
       "      <td>17550</td>\n",
       "      <td>107000.0</td>\n",
       "      <td>44.1415</td>\n",
       "      <td>-103.2052</td>\n",
       "      <td>46093.0</td>\n",
       "      <td>46.0</td>\n",
       "    </tr>\n",
       "    <tr>\n",
       "      <th>3</th>\n",
       "      <td>2800</td>\n",
       "      <td>168591.0</td>\n",
       "      <td>43.2845</td>\n",
       "      <td>-95.5930</td>\n",
       "      <td>19143.0</td>\n",
       "      <td>19.0</td>\n",
       "    </tr>\n",
       "    <tr>\n",
       "      <th>4</th>\n",
       "      <td>400</td>\n",
       "      <td>217000.0</td>\n",
       "      <td>43.0261</td>\n",
       "      <td>-94.4064</td>\n",
       "      <td>19109.0</td>\n",
       "      <td>19.0</td>\n",
       "    </tr>\n",
       "  </tbody>\n",
       "</table>\n",
       "</div>"
      ],
      "text/plain": [
       "   price  odometer      lat      long  county_fips  state_fips\n",
       "0  11900   43600.0  43.4775  -96.7041      46083.0        46.0\n",
       "1   1515  107000.0  44.7612  -96.6907      46039.0        46.0\n",
       "2  17550  107000.0  44.1415 -103.2052      46093.0        46.0\n",
       "3   2800  168591.0  43.2845  -95.5930      19143.0        19.0\n",
       "4    400  217000.0  43.0261  -94.4064      19109.0        19.0"
      ]
     },
     "execution_count": 108,
     "metadata": {},
     "output_type": "execute_result"
    }
   ],
   "source": [
    "numerik2 = ['price', 'odometer', 'lat', 'long', 'county_fips', 'state_fips']\n",
    "categorical2=data.drop(numerik2,axis=1)\n",
    "numerical2=data[numerik2]\n",
    "numerical2.head()"
   ]
  },
  {
   "cell_type": "code",
   "execution_count": 109,
   "metadata": {},
   "outputs": [
    {
     "name": "stderr",
     "output_type": "stream",
     "text": [
      "C:\\Users\\faizah064287\\AppData\\Local\\Continuum\\anaconda3\\lib\\site-packages\\ipykernel_launcher.py:1: SettingWithCopyWarning: \n",
      "A value is trying to be set on a copy of a slice from a DataFrame.\n",
      "Try using .loc[row_indexer,col_indexer] = value instead\n",
      "\n",
      "See the caveats in the documentation: http://pandas.pydata.org/pandas-docs/stable/indexing.html#indexing-view-versus-copy\n",
      "  \"\"\"Entry point for launching an IPython kernel.\n",
      "C:\\Users\\faizah064287\\AppData\\Local\\Continuum\\anaconda3\\lib\\site-packages\\ipykernel_launcher.py:2: SettingWithCopyWarning: \n",
      "A value is trying to be set on a copy of a slice from a DataFrame.\n",
      "Try using .loc[row_indexer,col_indexer] = value instead\n",
      "\n",
      "See the caveats in the documentation: http://pandas.pydata.org/pandas-docs/stable/indexing.html#indexing-view-versus-copy\n",
      "  \n"
     ]
    },
    {
     "data": {
      "text/html": [
       "<div>\n",
       "<style scoped>\n",
       "    .dataframe tbody tr th:only-of-type {\n",
       "        vertical-align: middle;\n",
       "    }\n",
       "\n",
       "    .dataframe tbody tr th {\n",
       "        vertical-align: top;\n",
       "    }\n",
       "\n",
       "    .dataframe thead th {\n",
       "        text-align: right;\n",
       "    }\n",
       "</style>\n",
       "<table border=\"1\" class=\"dataframe\">\n",
       "  <thead>\n",
       "    <tr style=\"text-align: right;\">\n",
       "      <th></th>\n",
       "      <th>price</th>\n",
       "      <th>odometer</th>\n",
       "      <th>lat</th>\n",
       "      <th>long</th>\n",
       "      <th>county_fips</th>\n",
       "      <th>state_fips</th>\n",
       "    </tr>\n",
       "  </thead>\n",
       "  <tbody>\n",
       "    <tr>\n",
       "      <th>0</th>\n",
       "      <td>5.752125e-06</td>\n",
       "      <td>0.004360</td>\n",
       "      <td>43.4775</td>\n",
       "      <td>-96.7041</td>\n",
       "      <td>46083.0</td>\n",
       "      <td>46.0</td>\n",
       "    </tr>\n",
       "    <tr>\n",
       "      <th>1</th>\n",
       "      <td>7.318865e-07</td>\n",
       "      <td>0.010700</td>\n",
       "      <td>44.7612</td>\n",
       "      <td>-96.6907</td>\n",
       "      <td>46039.0</td>\n",
       "      <td>46.0</td>\n",
       "    </tr>\n",
       "    <tr>\n",
       "      <th>2</th>\n",
       "      <td>8.483406e-06</td>\n",
       "      <td>0.010700</td>\n",
       "      <td>44.1415</td>\n",
       "      <td>-103.2052</td>\n",
       "      <td>46093.0</td>\n",
       "      <td>46.0</td>\n",
       "    </tr>\n",
       "    <tr>\n",
       "      <th>3</th>\n",
       "      <td>1.353072e-06</td>\n",
       "      <td>0.016859</td>\n",
       "      <td>43.2845</td>\n",
       "      <td>-95.5930</td>\n",
       "      <td>19143.0</td>\n",
       "      <td>19.0</td>\n",
       "    </tr>\n",
       "    <tr>\n",
       "      <th>4</th>\n",
       "      <td>1.928816e-07</td>\n",
       "      <td>0.021700</td>\n",
       "      <td>43.0261</td>\n",
       "      <td>-94.4064</td>\n",
       "      <td>19109.0</td>\n",
       "      <td>19.0</td>\n",
       "    </tr>\n",
       "  </tbody>\n",
       "</table>\n",
       "</div>"
      ],
      "text/plain": [
       "          price  odometer      lat      long  county_fips  state_fips\n",
       "0  5.752125e-06  0.004360  43.4775  -96.7041      46083.0        46.0\n",
       "1  7.318865e-07  0.010700  44.7612  -96.6907      46039.0        46.0\n",
       "2  8.483406e-06  0.010700  44.1415 -103.2052      46093.0        46.0\n",
       "3  1.353072e-06  0.016859  43.2845  -95.5930      19143.0        19.0\n",
       "4  1.928816e-07  0.021700  43.0261  -94.4064      19109.0        19.0"
      ]
     },
     "execution_count": 109,
     "metadata": {},
     "output_type": "execute_result"
    }
   ],
   "source": [
    "#normalization min max\n",
    "\n",
    "numerical2['price']=(numerical2['price'] - numerical2['price'].min()) / (numerical2['price'].max() - numerical2['price'].min())\n",
    "numerical2['odometer']=(numerical2['odometer'] - numerical2['odometer'].min()) / (numerical2['odometer'].max() - numerical2['odometer'].min())\n",
    "numerical2.head()\n"
   ]
  },
  {
   "cell_type": "markdown",
   "metadata": {},
   "source": [
    "### Checking outlier after handle outlier using min-max normalization"
   ]
  },
  {
   "cell_type": "code",
   "execution_count": 42,
   "metadata": {},
   "outputs": [
    {
     "data": {
      "text/plain": [
       "<matplotlib.axes._subplots.AxesSubplot at 0x1c7f6925320>"
      ]
     },
     "execution_count": 42,
     "metadata": {},
     "output_type": "execute_result"
    },
    {
     "data": {
      "image/png": "[encoded data removed]",
      "text/plain": [
       "<matplotlib.figure.Figure at 0x1c7f692e4a8>"
      ]
     },
     "metadata": {},
     "output_type": "display_data"
    }
   ],
   "source": [
    "#checking outlier after handle outlier in odometer variable\n",
    "#From boxplot knew that outlier is still exist in data. But i still use this data to analysis more cause maybe some vehicles-\n",
    "# -have many edometers because they have been used for long and have an expensive price because of the quality\n",
    "\n",
    "numerical2.boxplot(column='odometer') "
   ]
  },
  {
   "cell_type": "code",
   "execution_count": 43,
   "metadata": {},
   "outputs": [
    {
     "data": {
      "text/plain": [
       "<matplotlib.axes._subplots.AxesSubplot at 0x1c7f70f85c0>"
      ]
     },
     "execution_count": 43,
     "metadata": {},
     "output_type": "execute_result"
    },
    {
     "data": {
      "image/png": "[encoded data removed]",
      "text/plain": [
       "<matplotlib.figure.Figure at 0x1c7f70f3208>"
      ]
     },
     "metadata": {},
     "output_type": "display_data"
    }
   ],
   "source": [
    "#checking outlier after handle outlier in price variable\n",
    "\n",
    "numerical2.boxplot(column='price')"
   ]
  },
  {
   "cell_type": "markdown",
   "metadata": {},
   "source": [
    "### Bivariate Analysis"
   ]
  },
  {
   "cell_type": "code",
   "execution_count": 90,
   "metadata": {},
   "outputs": [
    {
     "data": {
      "text/html": [
       "<style  type=\"text/css\" >\n",
       "    #T_498e1112_c94b_11e9_8af2_d89c670520e8row0_col0 {\n",
       "            background-color:  #023858;\n",
       "        }    #T_498e1112_c94b_11e9_8af2_d89c670520e8row0_col1 {\n",
       "            background-color:  #fff7fb;\n",
       "        }    #T_498e1112_c94b_11e9_8af2_d89c670520e8row0_col2 {\n",
       "            background-color:  #fff7fb;\n",
       "        }    #T_498e1112_c94b_11e9_8af2_d89c670520e8row0_col3 {\n",
       "            background-color:  #fff7fb;\n",
       "        }    #T_498e1112_c94b_11e9_8af2_d89c670520e8row1_col0 {\n",
       "            background-color:  #fff7fb;\n",
       "        }    #T_498e1112_c94b_11e9_8af2_d89c670520e8row1_col1 {\n",
       "            background-color:  #023858;\n",
       "        }    #T_498e1112_c94b_11e9_8af2_d89c670520e8row1_col2 {\n",
       "            background-color:  #fff7fb;\n",
       "        }    #T_498e1112_c94b_11e9_8af2_d89c670520e8row1_col3 {\n",
       "            background-color:  #fff7fb;\n",
       "        }    #T_498e1112_c94b_11e9_8af2_d89c670520e8row2_col0 {\n",
       "            background-color:  #fff7fb;\n",
       "        }    #T_498e1112_c94b_11e9_8af2_d89c670520e8row2_col1 {\n",
       "            background-color:  #fff7fb;\n",
       "        }    #T_498e1112_c94b_11e9_8af2_d89c670520e8row2_col2 {\n",
       "            background-color:  #023858;\n",
       "        }    #T_498e1112_c94b_11e9_8af2_d89c670520e8row2_col3 {\n",
       "            background-color:  #023858;\n",
       "        }    #T_498e1112_c94b_11e9_8af2_d89c670520e8row3_col0 {\n",
       "            background-color:  #fff7fb;\n",
       "        }    #T_498e1112_c94b_11e9_8af2_d89c670520e8row3_col1 {\n",
       "            background-color:  #fff7fb;\n",
       "        }    #T_498e1112_c94b_11e9_8af2_d89c670520e8row3_col2 {\n",
       "            background-color:  #023858;\n",
       "        }    #T_498e1112_c94b_11e9_8af2_d89c670520e8row3_col3 {\n",
       "            background-color:  #023858;\n",
       "        }</style>  \n",
       "<table id=\"T_498e1112_c94b_11e9_8af2_d89c670520e8\" > \n",
       "<thead>    <tr> \n",
       "        <th class=\"blank level0\" ></th> \n",
       "        <th class=\"col_heading level0 col0\" >price</th> \n",
       "        <th class=\"col_heading level0 col1\" >odometer</th> \n",
       "        <th class=\"col_heading level0 col2\" >county_fips</th> \n",
       "        <th class=\"col_heading level0 col3\" >state_fips</th> \n",
       "    </tr></thead> \n",
       "<tbody>    <tr> \n",
       "        <th id=\"T_498e1112_c94b_11e9_8af2_d89c670520e8level0_row0\" class=\"row_heading level0 row0\" >price</th> \n",
       "        <td id=\"T_498e1112_c94b_11e9_8af2_d89c670520e8row0_col0\" class=\"data row0 col0\" >1</td> \n",
       "        <td id=\"T_498e1112_c94b_11e9_8af2_d89c670520e8row0_col1\" class=\"data row0 col1\" >-0.00041</td> \n",
       "        <td id=\"T_498e1112_c94b_11e9_8af2_d89c670520e8row0_col2\" class=\"data row0 col2\" >0.00085</td> \n",
       "        <td id=\"T_498e1112_c94b_11e9_8af2_d89c670520e8row0_col3\" class=\"data row0 col3\" >0.00084</td> \n",
       "    </tr>    <tr> \n",
       "        <th id=\"T_498e1112_c94b_11e9_8af2_d89c670520e8level0_row1\" class=\"row_heading level0 row1\" >odometer</th> \n",
       "        <td id=\"T_498e1112_c94b_11e9_8af2_d89c670520e8row1_col0\" class=\"data row1 col0\" >-0.00041</td> \n",
       "        <td id=\"T_498e1112_c94b_11e9_8af2_d89c670520e8row1_col1\" class=\"data row1 col1\" >1</td> \n",
       "        <td id=\"T_498e1112_c94b_11e9_8af2_d89c670520e8row1_col2\" class=\"data row1 col2\" >0.0012</td> \n",
       "        <td id=\"T_498e1112_c94b_11e9_8af2_d89c670520e8row1_col3\" class=\"data row1 col3\" >0.0012</td> \n",
       "    </tr>    <tr> \n",
       "        <th id=\"T_498e1112_c94b_11e9_8af2_d89c670520e8level0_row2\" class=\"row_heading level0 row2\" >county_fips</th> \n",
       "        <td id=\"T_498e1112_c94b_11e9_8af2_d89c670520e8row2_col0\" class=\"data row2 col0\" >0.00085</td> \n",
       "        <td id=\"T_498e1112_c94b_11e9_8af2_d89c670520e8row2_col1\" class=\"data row2 col1\" >0.0012</td> \n",
       "        <td id=\"T_498e1112_c94b_11e9_8af2_d89c670520e8row2_col2\" class=\"data row2 col2\" >1</td> \n",
       "        <td id=\"T_498e1112_c94b_11e9_8af2_d89c670520e8row2_col3\" class=\"data row2 col3\" >1</td> \n",
       "    </tr>    <tr> \n",
       "        <th id=\"T_498e1112_c94b_11e9_8af2_d89c670520e8level0_row3\" class=\"row_heading level0 row3\" >state_fips</th> \n",
       "        <td id=\"T_498e1112_c94b_11e9_8af2_d89c670520e8row3_col0\" class=\"data row3 col0\" >0.00084</td> \n",
       "        <td id=\"T_498e1112_c94b_11e9_8af2_d89c670520e8row3_col1\" class=\"data row3 col1\" >0.0012</td> \n",
       "        <td id=\"T_498e1112_c94b_11e9_8af2_d89c670520e8row3_col2\" class=\"data row3 col2\" >1</td> \n",
       "        <td id=\"T_498e1112_c94b_11e9_8af2_d89c670520e8row3_col3\" class=\"data row3 col3\" >1</td> \n",
       "    </tr></tbody> \n",
       "</table> "
      ],
      "text/plain": [
       "<pandas.io.formats.style.Styler at 0x1c820eff668>"
      ]
     },
     "execution_count": 90,
     "metadata": {},
     "output_type": "execute_result"
    }
   ],
   "source": [
    "#Create correlation data to looking for the correlation between numerical variabels\n",
    "\n",
    "numerical2.corr(method = 'pearson').style.background_gradient().set_precision(2)"
   ]
  },
  {
   "cell_type": "code",
   "execution_count": 91,
   "metadata": {},
   "outputs": [
    {
     "data": {
      "text/plain": [
       "<matplotlib.axes._subplots.AxesSubplot at 0x1c82b46ceb8>"
      ]
     },
     "execution_count": 91,
     "metadata": {},
     "output_type": "execute_result"
    },
    {
     "data": {
      "image/png": "[encoded data removed]",
      "text/plain": [
       "<matplotlib.figure.Figure at 0x1c7f82d5e10>"
      ]
     },
     "metadata": {},
     "output_type": "display_data"
    }
   ],
   "source": [
    "#create correlation with hitmap\n",
    "\n",
    "import matplotlib.pyplot as plt \n",
    "import seaborn as sns\n",
    "import numpy as np\n",
    "\n",
    "#create correlation\n",
    "corr = numerical.corr(method = 'pearson')\n",
    "\n",
    "#convert correlation to numpy array\n",
    "mask = np.array(corr)\n",
    "\n",
    "#to mask the repetitive value for each pair\n",
    "mask[np.tril_indices_from(mask)] = False\n",
    "fig, ax = plt.subplots(figsize = (15,12))\n",
    "fig.set_size_inches(20,10)\n",
    "sns.heatmap(corr, \n",
    "            mask = mask, \n",
    "            vmax = 0.9, \n",
    "            square = True, \n",
    "            annot = True)"
   ]
  },
  {
   "cell_type": "markdown",
   "metadata": {},
   "source": [
    "### Visualization using bar plot\n",
    "### Univariate Analysis"
   ]
  },
  {
   "cell_type": "markdown",
   "metadata": {},
   "source": [
    "### 1. Bar plot of Cylinders"
   ]
  },
  {
   "cell_type": "code",
   "execution_count": 66,
   "metadata": {},
   "outputs": [
    {
     "data": {
      "text/plain": [
       "Text(0.5,0,'Make')"
      ]
     },
     "execution_count": 66,
     "metadata": {},
     "output_type": "execute_result"
    },
    {
     "data": {
      "image/png": "[encoded data removed]",
      "text/plain": [
       "<matplotlib.figure.Figure at 0x1c81faf4198>"
      ]
     },
     "metadata": {},
     "output_type": "display_data"
    }
   ],
   "source": [
    "# In this part, we explain number of vehicle by cylinders\n",
    "\n",
    "data['cylinders'].value_counts().nlargest(10).plot(kind='bar', figsize=(15,5))\n",
    "plt.title(\"Number of vehicles by cylinders\")\n",
    "plt.ylabel('Number of vehicles')\n",
    "plt.xlabel('Make')\n",
    "\n",
    "## We would know, what is type of number cylinders that most used in vehicle"
   ]
  },
  {
   "cell_type": "code",
   "execution_count": 63,
   "metadata": {},
   "outputs": [
    {
     "data": {
      "text/plain": [
       "Text(0.5,0,'Type of title status')"
      ]
     },
     "execution_count": 63,
     "metadata": {},
     "output_type": "execute_result"
    },
    {
     "data": {
      "image/png": "[encoded data removed]",
      "text/plain": [
       "<matplotlib.figure.Figure at 0x1c7f82daf98>"
      ]
     },
     "metadata": {},
     "output_type": "display_data"
    }
   ],
   "source": [
    "# In this part, I explain number of vehicle by Title Status (Title status of vehicle) \n",
    "\n",
    "data['title_status'].value_counts().nlargest(10).plot(kind='bar', figsize=(15,5))\n",
    "plt.title(\"Number of vehicles by title status\")\n",
    "plt.ylabel('Number of vehicles')\n",
    "plt.xlabel('Type of title status')"
   ]
  },
  {
   "cell_type": "code",
   "execution_count": 62,
   "metadata": {},
   "outputs": [
    {
     "data": {
      "text/plain": [
       "Text(0.5,0,'Type of condition')"
      ]
     },
     "execution_count": 62,
     "metadata": {},
     "output_type": "execute_result"
    },
    {
     "data": {
      "image/png": "[encoded data removed]",
      "text/plain": [
       "<matplotlib.figure.Figure at 0x1c81f5195c0>"
      ]
     },
     "metadata": {},
     "output_type": "display_data"
    }
   ],
   "source": [
    "## In this part, I explain number of vehicle by condition\n",
    "\n",
    "data['condition'].value_counts().nlargest(10).plot(kind='bar', figsize=(15,5))\n",
    "plt.title(\"Number of vehicles by condition\")\n",
    "plt.ylabel('Number of vehicles')\n",
    "plt.xlabel('Type of condition')"
   ]
  },
  {
   "cell_type": "code",
   "execution_count": 65,
   "metadata": {},
   "outputs": [
    {
     "data": {
      "text/plain": [
       "Text(0.5,0,'Type of fuel')"
      ]
     },
     "execution_count": 65,
     "metadata": {},
     "output_type": "execute_result"
    },
    {
     "data": {
      "image/png": "[encoded data removed]",
      "text/plain": [
       "<matplotlib.figure.Figure at 0x1c81f5d16a0>"
      ]
     },
     "metadata": {},
     "output_type": "display_data"
    }
   ],
   "source": [
    "## In this part, I explain number of vehicle by fuel type\n",
    "\n",
    "data['fuel'].value_counts().nlargest(10).plot(kind='bar', figsize=(15,5))\n",
    "plt.title(\"Number of vehicles by fuel\")\n",
    "plt.ylabel('Number of vehicles')\n",
    "plt.xlabel('Type of fuel')"
   ]
  },
  {
   "cell_type": "code",
   "execution_count": 70,
   "metadata": {},
   "outputs": [
    {
     "data": {
      "text/plain": [
       "Text(0.5,0,'Type of manufacturer')"
      ]
     },
     "execution_count": 70,
     "metadata": {},
     "output_type": "execute_result"
    },
    {
     "data": {
      "image/png": "[encoded data removed]",
      "text/plain": [
       "<matplotlib.figure.Figure at 0x1c82044d438>"
      ]
     },
     "metadata": {},
     "output_type": "display_data"
    }
   ],
   "source": [
    "## In this part, I explain number of vehicle by manufacturer\n",
    "\n",
    "data['manufacturer'].value_counts().nlargest(100).plot(kind='bar', figsize=(15,5))\n",
    "plt.title(\"Number of vehicles by manufacturer\")\n",
    "plt.ylabel('Number of vehicles')\n",
    "plt.xlabel('Type of manufacturer')"
   ]
  },
  {
   "cell_type": "code",
   "execution_count": 73,
   "metadata": {},
   "outputs": [
    {
     "data": {
      "text/plain": [
       "Text(0.5,0,'Type of make')"
      ]
     },
     "execution_count": 73,
     "metadata": {},
     "output_type": "execute_result"
    },
    {
     "data": {
      "image/png": "[encoded data removed]",
      "text/plain": [
       "<matplotlib.figure.Figure at 0x1c82098aba8>"
      ]
     },
     "metadata": {},
     "output_type": "display_data"
    }
   ],
   "source": [
    "## In this part, I explain number of vehicle by make type\n",
    "\n",
    "data['make'].value_counts().nlargest(100).plot(kind='bar', figsize=(15,5))\n",
    "plt.title(\"Number of vehicles by make\")\n",
    "plt.ylabel('Number of vehicles')\n",
    "plt.xlabel('Type of make')"
   ]
  },
  {
   "cell_type": "code",
   "execution_count": 76,
   "metadata": {},
   "outputs": [
    {
     "data": {
      "text/plain": [
       "Text(0.5,0,'Type')"
      ]
     },
     "execution_count": 76,
     "metadata": {},
     "output_type": "execute_result"
    },
    {
     "data": {
      "image/png": "[encoded data removed]",
      "text/plain": [
       "<matplotlib.figure.Figure at 0x1c820923da0>"
      ]
     },
     "metadata": {},
     "output_type": "display_data"
    }
   ],
   "source": [
    "## In this part, I explain number of vehicle by type\n",
    "\n",
    "data['type'].value_counts().nlargest(100).plot(kind='bar', figsize=(15,5))\n",
    "plt.title(\"Number of vehicles by type\")\n",
    "plt.ylabel('Number of vehicles')\n",
    "plt.xlabel('Type')"
   ]
  },
  {
   "cell_type": "code",
   "execution_count": 78,
   "metadata": {},
   "outputs": [
    {
     "data": {
      "text/plain": [
       "Text(0.5,0,'Type of paint color')"
      ]
     },
     "execution_count": 78,
     "metadata": {},
     "output_type": "execute_result"
    },
    {
     "data": {
      "image/png": "[encoded data removed]",
      "text/plain": [
       "<matplotlib.figure.Figure at 0x1c820f64940>"
      ]
     },
     "metadata": {},
     "output_type": "display_data"
    }
   ],
   "source": [
    "## In this part, I explain number of vehicle by paint color\n",
    "\n",
    "data['paint_color'].value_counts().nlargest(100).plot(kind='bar', figsize=(15,5))\n",
    "plt.title(\"Number of vehicles by paint color\")\n",
    "plt.ylabel('Number of vehicles')\n",
    "plt.xlabel('Type of paint color')"
   ]
  },
  {
   "cell_type": "code",
   "execution_count": 85,
   "metadata": {},
   "outputs": [
    {
     "data": {
      "text/plain": [
       "Text(0.5,0,'Type of tarnsmission')"
      ]
     },
     "execution_count": 85,
     "metadata": {},
     "output_type": "execute_result"
    },
    {
     "data": {
      "image/png": "[encoded data removed]",
      "text/plain": [
       "<matplotlib.figure.Figure at 0x1c82b55e470>"
      ]
     },
     "metadata": {},
     "output_type": "display_data"
    }
   ],
   "source": [
    "## In this part, I explain number of vehicle by transmission\n",
    "\n",
    "data['transmission'].value_counts().nlargest(100).plot(kind='bar', figsize=(15,5))\n",
    "plt.title(\"Number of vehicles by transmission\")\n",
    "plt.ylabel('Number of vehicles')\n",
    "plt.xlabel('Type of tarnsmission')"
   ]
  },
  {
   "cell_type": "code",
   "execution_count": 82,
   "metadata": {},
   "outputs": [
    {
     "data": {
      "text/plain": [
       "Text(0.5,0,'Type of State Code')"
      ]
     },
     "execution_count": 82,
     "metadata": {},
     "output_type": "execute_result"
    },
    {
     "data": {
      "image/png": "[encoded data removed]",
      "text/plain": [
       "<matplotlib.figure.Figure at 0x1c820f1e4a8>"
      ]
     },
     "metadata": {},
     "output_type": "display_data"
    }
   ],
   "source": [
    "## In this part, I explain number of vehicle by state code\n",
    "\n",
    "data['state_code'].value_counts().nlargest(100).plot(kind='bar', figsize=(15,5))\n",
    "plt.title(\"Number of vehicles by state code\")\n",
    "plt.ylabel('Number of vehicles')\n",
    "plt.xlabel('Type of State Code')"
   ]
  },
  {
   "cell_type": "code",
   "execution_count": 97,
   "metadata": {},
   "outputs": [
    {
     "data": {
      "text/plain": [
       "Text(0.5,0,'Type of State Code')"
      ]
     },
     "execution_count": 97,
     "metadata": {},
     "output_type": "execute_result"
    },
    {
     "data": {
      "image/png": "[encoded data removed]",
      "text/plain": [
       "<matplotlib.figure.Figure at 0x1c82b9f9978>"
      ]
     },
     "metadata": {},
     "output_type": "display_data"
    }
   ],
   "source": [
    "## In this part, I would know what is the most year that contain in data\n",
    "## After that, i can explanatory of this year\n",
    "\n",
    "data['year'].value_counts().nlargest(100).plot(kind='bar', figsize=(15,5))\n",
    "plt.title(\"Number of vehicles by state code\")\n",
    "plt.ylabel('Number of vehicles')\n",
    "plt.xlabel('Type of State Code')"
   ]
  },
  {
   "cell_type": "markdown",
   "metadata": {},
   "source": [
    "# 2007"
   ]
  },
  {
   "cell_type": "code",
   "execution_count": 102,
   "metadata": {},
   "outputs": [
    {
     "data": {
      "text/plain": [
       "Text(0.5,0,'Type')"
      ]
     },
     "execution_count": 102,
     "metadata": {},
     "output_type": "execute_result"
    },
    {
     "data": {
      "image/png": "[encoded data removed]",
      "text/plain": [
       "<matplotlib.figure.Figure at 0x1c8344b9eb8>"
      ]
     },
     "metadata": {},
     "output_type": "display_data"
    }
   ],
   "source": [
    "## Years=2007\n",
    "## I get explanantory of type in 2007\n",
    "\n",
    "data2007=data[data['year']==2007]\n",
    "data2007['type'].value_counts().nlargest(100).plot(kind='bar', figsize=(15,5))\n",
    "plt.title(\"Number of vehicles by type\")\n",
    "plt.ylabel('Number of vehicles')\n",
    "plt.xlabel('Type')"
   ]
  },
  {
   "cell_type": "code",
   "execution_count": 107,
   "metadata": {},
   "outputs": [
    {
     "data": {
      "text/plain": [
       "Text(0.5,1,'Distribution of Title Status Type')"
      ]
     },
     "execution_count": 107,
     "metadata": {},
     "output_type": "execute_result"
    },
    {
     "data": {
      "image/png": "[encoded data removed]",
      "text/plain": [
       "<matplotlib.figure.Figure at 0x1c837ef6a90>"
      ]
     },
     "metadata": {},
     "output_type": "display_data"
    }
   ],
   "source": [
    "#Get distribution of data 2007 by title_status\n",
    "\n",
    "data2007['title_status'].value_counts().plot(kind='pie')\n",
    "plt.axis('equal')\n",
    "plt.title('Distribution of Title Status Type')"
   ]
  },
  {
   "cell_type": "code",
   "execution_count": 106,
   "metadata": {},
   "outputs": [
    {
     "data": {
      "text/plain": [
       "Text(0.5,1,'Distribution of Fuel type')"
      ]
     },
     "execution_count": 106,
     "metadata": {},
     "output_type": "execute_result"
    },
    {
     "data": {
      "image/png": "[encoded data removed]",
      "text/plain": [
       "<matplotlib.figure.Figure at 0x1c837eaf710>"
      ]
     },
     "metadata": {},
     "output_type": "display_data"
    }
   ],
   "source": [
    "#Get distribution of data 2007 by title_status\n",
    "\n",
    "data2007['fuel'].value_counts().plot(kind='pie')\n",
    "plt.axis('equal')\n",
    "plt.title('Distribution of Fuel type')"
   ]
  },
  {
   "cell_type": "markdown",
   "metadata": {},
   "source": [
    "### Create a time series plot of data price by year"
   ]
  },
  {
   "cell_type": "code",
   "execution_count": 118,
   "metadata": {},
   "outputs": [
    {
     "data": {
      "text/plain": [
       "year\n",
       "302.0     10001\n",
       "718.0     18413\n",
       "1553.0     3300\n",
       "1740.0    14000\n",
       "1796.0     5500\n",
       "1813.0     3800\n",
       "1900.0     4000\n",
       "1900.0     4000\n",
       "1900.0     4000\n",
       "1900.0     4000\n",
       "1900.0     4000\n",
       "1900.0     4000\n",
       "1900.0     4000\n",
       "1900.0     4000\n",
       "1900.0     4000\n",
       "1900.0     4000\n",
       "1900.0     4000\n",
       "1900.0     4000\n",
       "1900.0     4000\n",
       "1900.0     4000\n",
       "1900.0     4000\n",
       "1900.0     4000\n",
       "1900.0     4000\n",
       "1900.0     4000\n",
       "1900.0     4000\n",
       "1900.0     4000\n",
       "1900.0     4000\n",
       "1900.0     4000\n",
       "1900.0     4000\n",
       "1900.0     4000\n",
       "          ...  \n",
       "2019.0    35242\n",
       "2019.0    35242\n",
       "2019.0    35242\n",
       "2019.0    35242\n",
       "2019.0    35242\n",
       "2019.0    35242\n",
       "2019.0    35242\n",
       "2019.0    35242\n",
       "2019.0    35242\n",
       "2019.0    35242\n",
       "2019.0    35242\n",
       "2019.0    35242\n",
       "2019.0    35242\n",
       "2019.0    35242\n",
       "2019.0    35242\n",
       "2019.0    35242\n",
       "2019.0    35242\n",
       "2019.0    35242\n",
       "2019.0    35242\n",
       "2019.0    35242\n",
       "2019.0    35242\n",
       "2019.0    35242\n",
       "2019.0    35242\n",
       "2019.0    35242\n",
       "2019.0    35242\n",
       "2019.0    35242\n",
       "2019.0    35242\n",
       "2019.0    35242\n",
       "2019.0    35242\n",
       "2019.0    35242\n",
       "Name: price, Length: 1723065, dtype: int64"
      ]
     },
     "execution_count": 118,
     "metadata": {},
     "output_type": "execute_result"
    }
   ],
   "source": [
    "dataprice_sort=data.sort_values(by=['year'])\n",
    "dataprice=pd.Series(dataprice_sort['price'], index=dataprice_sort['year'])\n",
    "dataprice"
   ]
  },
  {
   "cell_type": "code",
   "execution_count": 124,
   "metadata": {},
   "outputs": [],
   "source": [
    "# Drop year below cause is so significance if i get time series plot include that year\n",
    "\n",
    "dataprice=dataprice.drop([302,718,1553, 1740, 1796, 1813])"
   ]
  },
  {
   "cell_type": "code",
   "execution_count": 125,
   "metadata": {},
   "outputs": [
    {
     "data": {
      "image/png": "[encoded data removed]",
      "text/plain": [
       "<matplotlib.figure.Figure at 0x1c832b341d0>"
      ]
     },
     "metadata": {},
     "output_type": "display_data"
    }
   ],
   "source": [
    "## Time series plot of price by year\n",
    "\n",
    "dataprice.plot()\n",
    "plt.show()"
   ]
  },
  {
   "cell_type": "markdown",
   "metadata": {},
   "source": [
    "### Get Information of Data"
   ]
  },
  {
   "cell_type": "code",
   "execution_count": 131,
   "metadata": {},
   "outputs": [
    {
     "data": {
      "text/plain": [
       "cosprings    8283\n",
       "Name: city, dtype: int64"
      ]
     },
     "execution_count": 131,
     "metadata": {},
     "output_type": "execute_result"
    }
   ],
   "source": [
    "## get name of city that have the highest vehicles\n",
    "\n",
    "city = data['city'].value_counts()\n",
    "city.head(1)"
   ]
  }
 ],
 "metadata": {
  "kernelspec": {
   "display_name": "Python 3",
   "language": "python",
   "name": "python3"
  },
  "language_info": {
   "codemirror_mode": {
    "name": "ipython",
    "version": 3
   },
   "file_extension": ".py",
   "mimetype": "text/x-python",
   "name": "python",
   "nbconvert_exporter": "python",
   "pygments_lexer": "ipython3",
   "version": "3.6.4"
  }
 },
 "nbformat": 4,
 "nbformat_minor": 2
}
